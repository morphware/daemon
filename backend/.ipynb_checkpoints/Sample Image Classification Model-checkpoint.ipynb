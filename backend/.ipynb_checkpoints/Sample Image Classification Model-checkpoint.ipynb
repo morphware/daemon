{
 "cells": [
  {
   "cell_type": "code",
   "execution_count": 1,
   "metadata": {},
   "outputs": [],
   "source": [
    "import tensorflow as     tf\n",
    "from   tensorflow import keras"
   ]
  },
  {
   "cell_type": "code",
   "execution_count": 2,
   "metadata": {},
   "outputs": [],
   "source": [
    "# TODO Split the GPU up into multiple GPUs?"
   ]
  },
  {
   "cell_type": "code",
   "execution_count": 3,
   "metadata": {},
   "outputs": [],
   "source": [
    "# TODO Use the dataset's pre-fetch method?"
   ]
  },
  {
   "cell_type": "code",
   "execution_count": 4,
   "metadata": {},
   "outputs": [],
   "source": [
    "fashion_mnist = keras.datasets.fashion_mnist\n",
    "(X_train_full, y_train_full), (X_test, y_test) = fashion_mnist.load_data()"
   ]
  },
  {
   "cell_type": "code",
   "execution_count": 5,
   "metadata": {},
   "outputs": [],
   "source": [
    "validation_set_size     = 5000\n",
    "maximum_pixel_intensity = 255.0"
   ]
  },
  {
   "cell_type": "code",
   "execution_count": 6,
   "metadata": {},
   "outputs": [],
   "source": [
    "X_valid, X_train = X_train_full[:validation_set_size] / maximum_pixel_intensity, X_train_full[validation_set_size:] / maximum_pixel_intensity\n",
    "y_valid, y_train = y_train_full[:validation_set_size], y_train_full[validation_set_size:]\n",
    "X_test           = X_test / maximum_pixel_intensity"
   ]
  },
  {
   "cell_type": "code",
   "execution_count": 7,
   "metadata": {},
   "outputs": [],
   "source": [
    "class_names = ['T-shirt/top', 'Trouser', 'Pullover', 'Dress', 'Coat', 'Sandal', 'Shirt', 'Sneaker', 'Bag', 'Ankle boot']"
   ]
  },
  {
   "cell_type": "code",
   "execution_count": 8,
   "metadata": {},
   "outputs": [],
   "source": [
    "model = keras.models.Sequential([\n",
    "    keras.layers.Flatten(input_shape=[28, 28]),\n",
    "    keras.layers.Dense(300, activation='relu'),\n",
    "    keras.layers.Dense(100, activation='relu'),\n",
    "    keras.layers.Dense(10, activation='softmax')\n",
    "])"
   ]
  },
  {
   "cell_type": "code",
   "execution_count": 9,
   "metadata": {},
   "outputs": [],
   "source": [
    "model.compile(loss='sparse_categorical_crossentropy',\n",
    "              optimizer='sgd',\n",
    "              metrics=['accuracy'])"
   ]
  },
  {
   "cell_type": "markdown",
   "metadata": {},
   "source": [
    "### `keras` Callbacks"
   ]
  },
  {
   "cell_type": "markdown",
   "metadata": {},
   "source": [
    "#### `Checkpoint` Callback"
   ]
  },
  {
   "cell_type": "code",
   "execution_count": 10,
   "metadata": {},
   "outputs": [],
   "source": [
    "# TODO Prepend the uploads directory and the broader path to this filename.\n",
    "\n",
    "outfile_pathname  = 'trained_model.h5' \n",
    "checkpoint_cb     = keras.callbacks.ModelCheckpoint(outfile_pathname, save_best_only=True)"
   ]
  },
  {
   "cell_type": "markdown",
   "metadata": {},
   "source": [
    "#### `EarlyStopping` Callback"
   ]
  },
  {
   "cell_type": "code",
   "execution_count": 11,
   "metadata": {},
   "outputs": [],
   "source": [
    "# TODO Make `patience` dynamic, according to the user-response to the question \"How will it automatically stop training?\" in the Electron app.\n",
    "\n",
    "early_stopping_cb = keras.callbacks.EarlyStopping(patience=10)"
   ]
  },
  {
   "cell_type": "code",
   "execution_count": 12,
   "metadata": {},
   "outputs": [
    {
     "name": "stdout",
     "output_type": "stream",
     "text": [
      "Epoch 1/100\n",
      "1719/1719 [==============================] - 3s 1ms/step - loss: 0.7393 - accuracy: 0.7586 - val_loss: 0.5287 - val_accuracy: 0.8240\n",
      "Epoch 2/100\n",
      "1719/1719 [==============================] - 2s 1ms/step - loss: 0.4964 - accuracy: 0.8270 - val_loss: 0.4845 - val_accuracy: 0.8252\n",
      "Epoch 3/100\n",
      "1719/1719 [==============================] - 2s 1ms/step - loss: 0.4518 - accuracy: 0.8425 - val_loss: 0.4247 - val_accuracy: 0.8554\n",
      "Epoch 4/100\n",
      "1719/1719 [==============================] - 2s 1ms/step - loss: 0.4222 - accuracy: 0.8513 - val_loss: 0.4078 - val_accuracy: 0.8624\n",
      "Epoch 5/100\n",
      "1719/1719 [==============================] - 2s 1ms/step - loss: 0.4001 - accuracy: 0.8595 - val_loss: 0.3897 - val_accuracy: 0.8706\n",
      "Epoch 6/100\n",
      "1719/1719 [==============================] - 2s 1ms/step - loss: 0.3840 - accuracy: 0.8641 - val_loss: 0.3929 - val_accuracy: 0.8646\n",
      "Epoch 7/100\n",
      "1719/1719 [==============================] - 2s 1ms/step - loss: 0.3691 - accuracy: 0.8691 - val_loss: 0.3631 - val_accuracy: 0.8734\n",
      "Epoch 8/100\n",
      "1719/1719 [==============================] - 2s 1ms/step - loss: 0.3576 - accuracy: 0.8731 - val_loss: 0.3678 - val_accuracy: 0.8712\n",
      "Epoch 9/100\n",
      "1719/1719 [==============================] - 2s 1ms/step - loss: 0.3456 - accuracy: 0.8767 - val_loss: 0.3527 - val_accuracy: 0.8742\n",
      "Epoch 10/100\n",
      "1719/1719 [==============================] - 2s 1ms/step - loss: 0.3363 - accuracy: 0.8797 - val_loss: 0.3601 - val_accuracy: 0.8736\n",
      "Epoch 11/100\n",
      "1719/1719 [==============================] - 3s 1ms/step - loss: 0.3275 - accuracy: 0.8825 - val_loss: 0.3723 - val_accuracy: 0.8728\n",
      "Epoch 12/100\n",
      "1719/1719 [==============================] - 3s 2ms/step - loss: 0.3177 - accuracy: 0.8855 - val_loss: 0.3473 - val_accuracy: 0.8774\n",
      "Epoch 13/100\n",
      "1719/1719 [==============================] - 3s 1ms/step - loss: 0.3108 - accuracy: 0.8883 - val_loss: 0.3499 - val_accuracy: 0.8742\n",
      "Epoch 14/100\n",
      "1719/1719 [==============================] - 2s 1ms/step - loss: 0.3036 - accuracy: 0.8909 - val_loss: 0.3404 - val_accuracy: 0.8774\n",
      "Epoch 15/100\n",
      "1719/1719 [==============================] - 2s 1ms/step - loss: 0.2976 - accuracy: 0.8931 - val_loss: 0.3329 - val_accuracy: 0.8782\n",
      "Epoch 16/100\n",
      "1719/1719 [==============================] - 2s 1ms/step - loss: 0.2911 - accuracy: 0.8952 - val_loss: 0.3309 - val_accuracy: 0.8818\n",
      "Epoch 17/100\n",
      "1719/1719 [==============================] - 3s 1ms/step - loss: 0.2848 - accuracy: 0.8975 - val_loss: 0.3176 - val_accuracy: 0.8832\n",
      "Epoch 18/100\n",
      "1719/1719 [==============================] - 3s 2ms/step - loss: 0.2790 - accuracy: 0.8995 - val_loss: 0.3158 - val_accuracy: 0.8840\n",
      "Epoch 19/100\n",
      "1719/1719 [==============================] - 2s 1ms/step - loss: 0.2734 - accuracy: 0.9014 - val_loss: 0.3091 - val_accuracy: 0.8874\n",
      "Epoch 20/100\n",
      "1719/1719 [==============================] - 2s 1ms/step - loss: 0.2690 - accuracy: 0.9041 - val_loss: 0.3061 - val_accuracy: 0.8894\n",
      "Epoch 21/100\n",
      "1719/1719 [==============================] - 2s 1ms/step - loss: 0.2644 - accuracy: 0.9038 - val_loss: 0.3065 - val_accuracy: 0.8890\n",
      "Epoch 22/100\n",
      "1719/1719 [==============================] - 2s 1ms/step - loss: 0.2590 - accuracy: 0.9071 - val_loss: 0.3610 - val_accuracy: 0.8736\n",
      "Epoch 23/100\n",
      "1719/1719 [==============================] - 2s 1ms/step - loss: 0.2545 - accuracy: 0.9079 - val_loss: 0.3199 - val_accuracy: 0.8834\n",
      "Epoch 24/100\n",
      "1719/1719 [==============================] - 2s 1ms/step - loss: 0.2497 - accuracy: 0.9104 - val_loss: 0.3251 - val_accuracy: 0.8832\n",
      "Epoch 25/100\n",
      "1719/1719 [==============================] - 2s 1ms/step - loss: 0.2458 - accuracy: 0.9116 - val_loss: 0.3338 - val_accuracy: 0.8800\n",
      "Epoch 26/100\n",
      "1719/1719 [==============================] - 2s 1ms/step - loss: 0.2424 - accuracy: 0.9122 - val_loss: 0.3075 - val_accuracy: 0.8924\n",
      "Epoch 27/100\n",
      "1719/1719 [==============================] - 2s 1ms/step - loss: 0.2374 - accuracy: 0.9140 - val_loss: 0.3034 - val_accuracy: 0.8902\n",
      "Epoch 28/100\n",
      "1719/1719 [==============================] - 2s 1ms/step - loss: 0.2329 - accuracy: 0.9163 - val_loss: 0.2933 - val_accuracy: 0.8934\n",
      "Epoch 29/100\n",
      "1719/1719 [==============================] - 2s 1ms/step - loss: 0.2290 - accuracy: 0.9174 - val_loss: 0.2945 - val_accuracy: 0.8950\n",
      "Epoch 30/100\n",
      "1719/1719 [==============================] - 2s 1ms/step - loss: 0.2251 - accuracy: 0.9196 - val_loss: 0.3072 - val_accuracy: 0.8900\n",
      "Epoch 31/100\n",
      "1719/1719 [==============================] - 2s 1ms/step - loss: 0.2216 - accuracy: 0.9209 - val_loss: 0.3025 - val_accuracy: 0.8924\n",
      "Epoch 32/100\n",
      "1719/1719 [==============================] - 2s 1ms/step - loss: 0.2178 - accuracy: 0.9215 - val_loss: 0.2957 - val_accuracy: 0.8904\n",
      "Epoch 33/100\n",
      "1719/1719 [==============================] - 2s 1ms/step - loss: 0.2138 - accuracy: 0.9239 - val_loss: 0.3088 - val_accuracy: 0.8894\n",
      "Epoch 34/100\n",
      "1719/1719 [==============================] - 2s 1ms/step - loss: 0.2105 - accuracy: 0.9243 - val_loss: 0.2916 - val_accuracy: 0.8956\n",
      "Epoch 35/100\n",
      "1719/1719 [==============================] - 2s 1ms/step - loss: 0.2074 - accuracy: 0.9256 - val_loss: 0.2906 - val_accuracy: 0.8950\n",
      "Epoch 36/100\n",
      "1719/1719 [==============================] - 2s 1ms/step - loss: 0.2048 - accuracy: 0.9266 - val_loss: 0.3083 - val_accuracy: 0.8916\n",
      "Epoch 37/100\n",
      "1719/1719 [==============================] - 2s 1ms/step - loss: 0.2018 - accuracy: 0.9273 - val_loss: 0.3009 - val_accuracy: 0.8884\n",
      "Epoch 38/100\n",
      "1719/1719 [==============================] - 2s 1ms/step - loss: 0.1973 - accuracy: 0.9301 - val_loss: 0.3061 - val_accuracy: 0.8930\n",
      "Epoch 39/100\n",
      "1719/1719 [==============================] - 2s 1ms/step - loss: 0.1933 - accuracy: 0.9313 - val_loss: 0.3168 - val_accuracy: 0.8912\n",
      "Epoch 40/100\n",
      "1719/1719 [==============================] - 2s 1ms/step - loss: 0.1898 - accuracy: 0.9319 - val_loss: 0.2856 - val_accuracy: 0.8986\n",
      "Epoch 41/100\n",
      "1719/1719 [==============================] - 2s 1ms/step - loss: 0.1885 - accuracy: 0.9329 - val_loss: 0.2923 - val_accuracy: 0.8992\n",
      "Epoch 42/100\n",
      "1719/1719 [==============================] - 2s 1ms/step - loss: 0.1864 - accuracy: 0.9336 - val_loss: 0.2967 - val_accuracy: 0.8984\n",
      "Epoch 43/100\n",
      "1719/1719 [==============================] - 2s 1ms/step - loss: 0.1812 - accuracy: 0.9357 - val_loss: 0.3001 - val_accuracy: 0.8942\n",
      "Epoch 44/100\n",
      "1719/1719 [==============================] - 2s 1ms/step - loss: 0.1774 - accuracy: 0.9367 - val_loss: 0.3027 - val_accuracy: 0.8974\n",
      "Epoch 45/100\n",
      "1719/1719 [==============================] - 2s 1ms/step - loss: 0.1755 - accuracy: 0.9371 - val_loss: 0.2980 - val_accuracy: 0.8942\n",
      "Epoch 46/100\n",
      "1719/1719 [==============================] - 2s 1ms/step - loss: 0.1729 - accuracy: 0.9392 - val_loss: 0.3005 - val_accuracy: 0.8976\n",
      "Epoch 47/100\n",
      "1719/1719 [==============================] - 2s 1ms/step - loss: 0.1708 - accuracy: 0.9389 - val_loss: 0.2935 - val_accuracy: 0.8968\n",
      "Epoch 48/100\n",
      "1719/1719 [==============================] - 2s 1ms/step - loss: 0.1684 - accuracy: 0.9397 - val_loss: 0.3080 - val_accuracy: 0.8954\n",
      "Epoch 49/100\n",
      "1719/1719 [==============================] - 2s 1ms/step - loss: 0.1648 - accuracy: 0.9414 - val_loss: 0.2923 - val_accuracy: 0.8998\n",
      "Epoch 50/100\n",
      "1719/1719 [==============================] - 2s 1ms/step - loss: 0.1627 - accuracy: 0.9422 - val_loss: 0.2913 - val_accuracy: 0.9010\n"
     ]
    }
   ],
   "source": [
    "history = model.fit(X_train, y_train, epochs=100,\n",
    "                    validation_data=(X_valid, y_valid),\n",
    "                    callbacks=[checkpoint_cb, early_stopping_cb])"
   ]
  },
  {
   "cell_type": "code",
   "execution_count": null,
   "metadata": {},
   "outputs": [],
   "source": [
    "history"
   ]
  }
 ],
 "metadata": {
  "kernelspec": {
   "display_name": "Python 3",
   "language": "python",
   "name": "python3"
  },
  "language_info": {
   "codemirror_mode": {
    "name": "ipython",
    "version": 3
   },
   "file_extension": ".py",
   "mimetype": "text/x-python",
   "name": "python",
   "nbconvert_exporter": "python",
   "pygments_lexer": "ipython3",
   "version": "3.8.5"
  }
 },
 "nbformat": 4,
 "nbformat_minor": 4
}
